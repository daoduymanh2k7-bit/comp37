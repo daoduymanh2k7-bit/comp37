{
  "nbformat": 4,
  "nbformat_minor": 0,
  "metadata": {
    "colab": {
      "provenance": []
    },
    "kernelspec": {
      "name": "python3",
      "display_name": "Python 3"
    },
    "language_info": {
      "name": "python"
    }
  },
  "cells": [
    {
      "cell_type": "code",
      "execution_count": 6,
      "metadata": {
        "colab": {
          "base_uri": "https://localhost:8080/"
        },
        "id": "bILHG-zj0kvf",
        "outputId": "3f67ac9d-953a-4e24-ca76-c5e97dfdda15"
      },
      "outputs": [
        {
          "output_type": "stream",
          "name": "stdout",
          "text": [
            "34545\n",
            "54543\n"
          ]
        }
      ],
      "source": [
        "#1\n",
        "n = int(input())\n",
        "def daoso(n):\n",
        "  A=\"\"\n",
        "  while n != 0:\n",
        "    A=A+str(n%10)\n",
        "    n=n//10\n",
        "  return int(A)\n",
        "print(daoso(n))"
      ]
    }
  ]
}