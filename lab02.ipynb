{
  "cells": [
    {
      "cell_type": "markdown",
      "metadata": {
        "id": "IhyDLrwhqGis"
      },
      "source": [
        "# Table of Contents\n",
        "- [0. Overview](#0.-Overview)\n",
        "- [1. Quick Python Warm-Up](#1.-Quick-Python-Warm-Up)\n",
        "- [2. Prompt Engineering](#2.-Prompt-Engineering)\n",
        "- [2.1 Prompting Basics](#2.1-Prompting-Basics)\n",
        "- [2.2 Code Prompting Patterns](#2.2-Code-Prompting-Patterns)\n",
        "- [3. What is AI (for Computational Thinking)?](#3.-What-is-AI-(for-Computational-Thinking)?)\n",
        "- [3a. Problem Decomposition with AI](#3a.-Problem-decomposition-with-AI)\n",
        "- [3b. Pattern Recognition with AI](#3b.-Pattern-Recognition-with-AI)\n",
        "- [3c. Abstraction with AI](#3c.-Abstraction-with-AI)\n",
        "- [3d. Algorithm Design with AI](#3d.-Algorithm-Design-with-AI)\n",
        "- [4. Lab 1 - Decomposition with AI](#4.-Lab-1-—-Decomposition-with-AI)\n",
        "- [5. Lab 2 - Prompt-Assisted Python (Explain/Debug)](#5.-Lab-2-—-Prompt-Assisted-Python-(Explain/Debug))\n",
        "- [6. Lab 3 - Compare & Evaluate AI Outputs](#6.-Lab-3-—-Compare-&-Evaluate-AI-Outputs)\n",
        "- [7. Ethics, Safety, and Academic Integrity](#7.-Ethics,-Safety,-and-Academic-Integrity)\n",
        "- [8. Exit Ticket](#8.-Exit-Ticket)\n",
        "- [9. License & Attributions](#10.-License-&-Attributions)"
      ],
      "id": "IhyDLrwhqGis"
    },
    {
      "cell_type": "markdown",
      "metadata": {
        "id": "ASGYp-_5qGiw"
      },
      "source": [
        "# Lecture 02 - AI-Assisted Programming\n",
        "\n",
        "**Run mode:** This notebook is self-contained and avoids any API calls. Students will copy/paste the provided **prompt blocks** into ChatGPT or Gemini in the browser.\n",
        "\n",
        "**Course materials:**  \n",
        "- Lecture 02 slide\n",
        "\n",
        "## Learning Goals\n",
        "1. Connect CT pillars - **decomposition, pattern recognition, abstraction, algorithms** - to practical AI usage.\n",
        "2. Practice **prompt engineering basics** (role, goal, constraints, examples, step-by-step, evaluation).\n",
        "3. Use AI to **plan, prototype, and critique** simple solutions with **human oversight & integrity**.\n",
        "4. Apply AI to **explain and debug basic Python** from Lesson 1."
      ],
      "id": "ASGYp-_5qGiw"
    },
    {
      "cell_type": "markdown",
      "metadata": {
        "id": "prT-uCivqGix"
      },
      "source": [
        "# 1. Quick Python Warm-Up\n",
        "\n",
        "You can try these tiny tasks first (they will be reused later when we ask AI for explanations or improvements).\n",
        "\n",
        "**Task A - Variables & Functions**  \n",
        "Write a function `add(a, b)` that returns the sum of two numbers.\n",
        "\n",
        "**Task B - Loops**  \n",
        "Print numbers from 1 to `n` on one line separated by spaces.\n",
        "\n",
        "**Task C - Lists**  \n",
        "Given a list of integers, return a new list with only the even numbers."
      ],
      "id": "prT-uCivqGix"
    },
    {
      "cell_type": "code",
      "execution_count": null,
      "metadata": {
        "id": "5QeiMnrEqGiy",
        "outputId": "091f1f9e-557f-4377-e175-640d862c82d9",
        "colab": {
          "base_uri": "https://localhost:8080/"
        }
      },
      "outputs": [
        {
          "output_type": "stream",
          "name": "stdout",
          "text": [
            "add(2, 5) -> 7\n"
          ]
        }
      ],
      "source": [
        "# Task A — Variables & Functions\n",
        "# TODO: Implement add(a, b)\n",
        "def add(a, b):\n",
        "    return a + b  # starter solution\n",
        "\n",
        "# quick check\n",
        "print(\"add(2, 5) ->\", add(2, 5))"
      ],
      "id": "5QeiMnrEqGiy"
    },
    {
      "cell_type": "code",
      "execution_count": null,
      "metadata": {
        "id": "A9Rj1dVkqGiz",
        "outputId": "02dec777-1199-4b59-ba68-beb3ed9e51bc",
        "colab": {
          "base_uri": "https://localhost:8080/"
        }
      },
      "outputs": [
        {
          "output_type": "stream",
          "name": "stdout",
          "text": [
            "1 2 3 4 5 6 7 8 9 10\n"
          ]
        }
      ],
      "source": [
        "# Task B — Loops\n",
        "def one_to_n(n):\n",
        "    out = []\n",
        "    for i in range(1, n+1):\n",
        "        out.append(str(i))\n",
        "    print(\" \".join(out))\n",
        "\n",
        "# quick check\n",
        "one_to_n(10)"
      ],
      "id": "A9Rj1dVkqGiz"
    },
    {
      "cell_type": "code",
      "execution_count": null,
      "metadata": {
        "id": "qnB2qh_WqGiz",
        "outputId": "1040516b-5ec0-4adc-e878-b505288040a2"
      },
      "outputs": [
        {
          "name": "stdout",
          "output_type": "stream",
          "text": [
            "only_evens([1,2,3,4,5,6]) -> [2, 4, 6]\n"
          ]
        }
      ],
      "source": [
        "# Task C — Lists\n",
        "def only_evens(nums):\n",
        "    return [x for x in nums if (x % 2) == 0]\n",
        "\n",
        "# quick check\n",
        "print(\"only_evens([1,2,3,4,5,6]) ->\", only_evens([1,2,3,4,5,6]))"
      ],
      "id": "qnB2qh_WqGiz"
    },
    {
      "cell_type": "markdown",
      "metadata": {
        "id": "Zayw5ftaqGi0"
      },
      "source": [
        "# 2. Prompt Engineering\n",
        "# 2.1. Prompting Basics\n",
        "\n",
        "A reliable prompt often includes:\n",
        "- **Role** (e.g., “Act as a Python tutor for beginners”)\n",
        "- **Objective** (what outcome you want)\n",
        "- **Constraints** (rules, scope, tone, length)\n",
        "- **Format** (bullets/table/JSON/etc.)\n",
        "- **Examples (optional, if needed)** (few-shot)\n",
        "- **Step-by-step (optional, if needed)** (ask for explicit reasoning or checklist)\n",
        "- **Evaluation (optional, if needed)** (ask the model to verify or critique its own output)\n",
        "\n",
        "## Explainer Prompt (Copy to ChatGPT/Gemini)\n",
        "```\n",
        "You are a patient Python tutor for beginners.\n",
        "Explain Python \"for\" loops using 2 simple examples and 1 common mistake.\n",
        "Audience: first-year students; Keep it short and friendly.\n",
        "Then give 3 quick practice tasks.\n",
        "Return in: Markdown with headings + bullet lists.\n",
        "```\n",
        "\n",
        "## Decomposer Prompt (Word Count example) (Copy to ChatGPT/Gemini)\n",
        "```\n",
        "Act as a software planning assistant.\n",
        "Goal: Break the problem \"Count words in a sentence\" into clear subtasks.\n",
        "Rules: Keep subtasks small; specify inputs/outputs; suggest 3–5 test cases.\n",
        "Return in a numbered checklist.\n",
        "```\n",
        "\n",
        "## Self-Checker Prompt (Copy to ChatGPT/Gemini)\n",
        "```\n",
        "I will paste a short Python function.\n",
        "Tasks:\n",
        "1) Explain what it does,\n",
        "2) List 3 possible edge cases,\n",
        "3) Propose 2 tests and predict expected outputs,\n",
        "4) Suggest one improvement for readability or safety.\n",
        "Return in a table.\n",
        "```"
      ],
      "id": "Zayw5ftaqGi0"
    },
    {
      "cell_type": "markdown",
      "metadata": {
        "id": "EDFuUiORqGi2"
      },
      "source": [
        "# 2.2 Code Prompting Patterns\n",
        "\n",
        "Below are **ready-to-copy** prompt templates for common coding workflows taking this example: **“Count words in a sentence.”**\n",
        "\n",
        "---\n",
        "## A) Prompts for **writing code**\n",
        "**When to use:** You have a clear spec and want a first draft that respects constraints.\n",
        "\n",
        "```\n",
        "Act as a Python TA for beginners.\n",
        "Write the function below according to the spec.\n",
        "\n",
        "Specification / docstring:\n",
        "- Function name: count_words\n",
        "- Signature: count_words(sentence: str) -> int\n",
        "- Behavior:\n",
        "  * Count how many words are in the input sentence.\n",
        "  * Consecutive whitespace should be treated as a single delimiter.\n",
        "  * Leading/trailing whitespace should be ignored.\n",
        "  * Empty or whitespace-only input should return 0.\n",
        "- Constraints:\n",
        "  * Use only the Python standard library.\n",
        "  * Include type hints and a docstring.\n",
        "  * List 3 edge cases in a short comment block.\n",
        "- Tests:\n",
        "  * Provide 3 simple print-based tests showing expected vs. actual output.\n",
        "- Notes: Keep explanations after the code under a \"Notes\" section.\n",
        "Return: one Python code block, then a short \"Notes\" section.\n",
        "```\n",
        "\n",
        "---\n",
        "## B) Prompts for **explaining code**\n",
        "**When to use:** Understand an existing snippet at two levels: big picture and line-by-line.\n",
        "\n",
        "```\n",
        "You are a Python explainer for first-year students.\n",
        "Given the code below, produce:\n",
        "1) A high-level summary (2–3 sentences),\n",
        "2) A line-by-line explanation,\n",
        "3) Hidden assumptions and potential edge cases,\n",
        "4) One readability improvement and why,\n",
        "5) An improved docstring.\n",
        "\n",
        "Code:\n",
        "def count_words(sentence: str) -> int:\n",
        "    return len(sentence.split(\" \"))\n",
        "\n",
        "Return in Markdown with headings.\n",
        "```\n",
        "\n",
        "---\n",
        "## C) Prompts for **translating code**\n",
        "**When to use:** Port small snippets between languages.\n",
        "\n",
        "```\n",
        "Translate the following Python function to JavaScript (ES6). Preserve behavior and input/output format.\n",
        "Include a tiny test demonstrating equivalence.\n",
        "\n",
        "Python code:\n",
        "def count_words(sentence: str) -> int:\n",
        "    return len(sentence.split())  # robust whitespace handling\n",
        "\n",
        "Expected: A JS function countWords(sentence) that returns an integer.\n",
        "```\n",
        "\n",
        "---\n",
        "## D) Prompts for **debugging & reviewing code**\n",
        "**When to use:** You suspect bugs or want a quick quality pass.\n",
        "\n",
        "```\n",
        "Act as a strict code reviewer.\n",
        "Tasks:\n",
        "- Identify bugs or risky assumptions,\n",
        "- Propose 4 tests (including 2 edge cases) with expected outputs,\n",
        "- Provide a unified diff patch OR clearly labeled \"Before/After\" snippets,\n",
        "- Explain each change briefly,\n",
        "- State time/space complexity of the final version.\n",
        "\n",
        "Code:\n",
        "def count_words(sentence: str) -> int:\n",
        "    return len(sentence.split(\" \"))\n",
        "\n",
        "Return: findings -> tests -> patch -> explanation -> complexity.\n",
        "```"
      ],
      "id": "EDFuUiORqGi2"
    },
    {
      "cell_type": "markdown",
      "metadata": {
        "id": "VjqDvQuZqGi3"
      },
      "source": [
        "# 3. AI for Computational Thinking\n",
        "\n",
        "We will use **one running example** across all CT steps: **“Count words in a sentence.”**\n",
        "\n",
        "**Computational Thinking pillars** and how AI can assist:\n",
        "- **Decomposition:** Ask AI to help break the task into well-scoped subtasks with clear inputs/outputs.\n",
        "- **Pattern Recognition:** Compare examples to discover rules (e.g., treatment of whitespace/punctuation).\n",
        "- **Abstraction:** Define a simple interface and data model; hide incidental detail.\n",
        "- **Algorithms:** Turn the abstraction into a precise, testable procedure."
      ],
      "id": "VjqDvQuZqGi3"
    },
    {
      "cell_type": "markdown",
      "id": "af515df8",
      "metadata": {
        "id": "af515df8"
      },
      "source": [
        "# 3a. Problem Decomposition with AI\n",
        "\n",
        "**Scenario:** “Count words in a sentence.”\n",
        "\n",
        "1. Try to outline the solution yourself.  \n",
        "2. Paste the following into ChatGPT/Gemini to refine your plan.\n",
        "\n",
        "**Copy to ChatGPT/Gemini — Decomposition Prompt**\n",
        "```\n",
        "Act as a Python planning assistant.\n",
        "Break down the problem \"Count words in a sentence\" into small steps.\n",
        "Specify inputs, outputs, and at least 4 edge cases (e.g., multiple spaces, empty string, punctuation).\n",
        "Propose 3 tests with expected outputs.\n",
        "Return in a numbered list.\n",
        "```\n",
        "\n",
        "### Reflection\n",
        "- Which step would you implement first and why?\n",
        "- Which edge cases are hardest? How would you confirm your code handles them?"
      ]
    },
    {
      "cell_type": "markdown",
      "metadata": {
        "id": "0PnhVjhEqGi4"
      },
      "source": [
        "# 3b. Pattern Recognition with AI\n",
        "\n",
        "**Goal:** Identify recurring structures and corner cases for **word counting**.\n",
        "\n",
        "**Examples to analyze**\n",
        "- `\"hello world\"` → 2\n",
        "- `\"  hello   world  \"` → 2  (multiple spaces)\n",
        "- `\"\"` → 0  (empty string)\n",
        "- `\"punctuation, too!\"` → 2  (punctuation adjacent to words)\n",
        "- `\"tabs\\tand  spaces\"` → 3  (mixed whitespace)\n",
        "- `\"line\\nbreaks here\"` → 3  (newline)\n",
        "\n",
        "## Pattern Finder (Copy to ChatGPT/Gemini)\n",
        "```\n",
        "Analyze these examples of counting words:\n",
        "- \"hello world\" -> 2\n",
        "- \"  hello   world  \" -> 2\n",
        "- \"\" -> 0\n",
        "- \"punctuation, too!\" -> 2\n",
        "- \"tabs\\tand  spaces\" -> 3\n",
        "- \"line\\nbreaks here\" -> 3\n",
        "\n",
        "Tasks:\n",
        "1) List 3–5 recurring features (e.g., how whitespace is treated),\n",
        "2) State the general rule for what counts as a word,\n",
        "3) Provide 2 tricky examples and predict outputs,\n",
        "4) Suggest a quick checklist for testing a word-count function.\n",
        "Return in Markdown with headings.\n",
        "```\n",
        "\n",
        "## Error Pattern Mining (Copy to ChatGPT/Gemini)\n",
        "```\n",
        "Here are student implementations for count_words that may fail:\n",
        "\n",
        "A)\n",
        "def count_words(sentence: str) -> int:\n",
        "    return len(sentence.split(\" \"))\n",
        "\n",
        "B)\n",
        "def count_words(sentence: str) -> int:\n",
        "    if sentence == \"\":\n",
        "        return 0\n",
        "    return len([t for t in sentence.split(\" \") if t != \"\"])\n",
        "\n",
        "C)\n",
        "def count_words(sentence: str) -> int:\n",
        "    return len(sentence.strip().split())\n",
        "\n",
        "Tasks:\n",
        "- Categorize common error patterns (e.g., splitting by single space, mishandling tabs/newlines),\n",
        "- Provide a 1-sentence detector rule for each,\n",
        "- Show a minimal fix and 1 test.\n",
        "Return as a short report.\n",
        "```"
      ],
      "id": "0PnhVjhEqGi4"
    },
    {
      "cell_type": "markdown",
      "metadata": {
        "id": "QbkpoIGvqGi5"
      },
      "source": [
        "# 3c. Abstraction with AI\n",
        "\n",
        "**Goal:** Hide irrelevant detail and define a clean interface for **word counting**.\n",
        "\n",
        "## Essentials Table + Interface (Copy to ChatGPT/Gemini)\n",
        "```\n",
        "Convert this problem into an essentials/incidental table and a minimal Python interface.\n",
        "\n",
        "Problem:\n",
        "\"Given a text sentence, return how many human-readable words it contains.\n",
        "Treat any run of whitespace (spaces/tabs/newlines) as a delimiter.\n",
        "Ignore leading/trailing whitespace.\n",
        "Return 0 for empty or whitespace-only input.\"\n",
        "\n",
        "Deliverables:\n",
        "1) A two-column table: \"Essential\" vs \"Incidental\" details,\n",
        "2) A Python function signature with type hints,\n",
        "3) 3 pre/postconditions (invariants) that must hold.\n",
        "```"
      ],
      "id": "QbkpoIGvqGi5"
    },
    {
      "cell_type": "markdown",
      "metadata": {
        "id": "D-OgRFWfqGi5"
      },
      "source": [
        "# 3d. Algorithm Design with AI\n",
        "\n",
        "**Goal:** Turn the abstraction into a precise, testable procedure for **word counting**.\n",
        "\n",
        "## Strategy & Trade-offs (Copy to ChatGPT/Gemini)\n",
        "```\n",
        "Propose 2–3 algorithmic strategies for counting words, compare them in a table\n",
        "(columns: strategy, idea, complexity, pros, cons, when to use).\n",
        "\n",
        "Assumptions:\n",
        "- Any run of whitespace is a delimiter,\n",
        "- Words are tokens containing at least one alphanumeric character.\n",
        "```\n",
        "\n",
        "## Pseudocode (Copy to ChatGPT/Gemini)\n",
        "```\n",
        "Write language-agnostic pseudocode for a robust word-count algorithm.\n",
        "Include inputs/outputs, assumptions, and 4 tests (normal + edge cases):\n",
        "1) \"hello world\" -> 2\n",
        "2) \"  hello   world  \" -> 2\n",
        "3) \"\" -> 0\n",
        "4) \"tabs\\tand  spaces\" -> 3\n",
        "```\n",
        "\n",
        "## Clarify-then-Refine (Copy to ChatGPT/Gemini)\n",
        "```\n",
        "Before proposing a final algorithm, ask 3 clarifying questions about requirements\n",
        "(e.g., punctuation rules, Unicode, hyphenated words). After I answer, refine the\n",
        "pseudocode and propose 2 micro-optimizations.\n",
        "```"
      ],
      "id": "D-OgRFWfqGi5"
    },
    {
      "cell_type": "markdown",
      "metadata": {
        "id": "GAG6NTTKqGi6"
      },
      "source": [
        "# 4. Lab 1 - Decomposition with AI\n",
        "\n",
        "**Scenario:** Sum of Integers in a String.”\n",
        "\n",
        "Given a single input string that contains integers separated by any whitespace (spaces, tabs, newlines), return the sum of those integers.\n",
        "\n",
        "Examples:\n",
        "\n",
        "- \"1 2 3\" -> 6\n",
        "- \" 4 5 \" -> 9\n",
        "- \"10\\t20\\n30\" -> 60\n",
        "- \"-5 3\" -> -2\n",
        "- \"\" -> 0\n",
        "\n",
        "Assumptions / Constraints:\n",
        "\n",
        "- Tokens are integers (may include a leading minus sign).\n",
        "- Delimiters can be spaces, tabs, or newlines (possibly repeated).\n",
        "- Empty or whitespace-only input returns 0.\n",
        "- Standard library only, no extra packages.\n",
        "\n",
        "Try to outline the solution yourself.  \n",
        "\n",
        "**Decomposition Prompt**\n",
        "```\n",
        "<<<YOUR PROMPT HERE>>>\n",
        "```\n",
        "\n",
        "### Reflection\n",
        "- Which step would you implement first and why?\n",
        "- If you later needed to handle commas as well (e.g., \"1, 2, 3\"), which subtask would you change?"
      ],
      "id": "GAG6NTTKqGi6"
    },
    {
      "cell_type": "markdown",
      "metadata": {
        "id": "DT0OpDEUqGi6"
      },
      "source": [
        "# 5. Lab 2 - Prompt-Assisted Python (Explain/Debug)\n",
        "\n",
        "We’ll start with a **buggy** implementation, ask AI to explain and improve it, then run our fix locally."
      ],
      "id": "DT0OpDEUqGi6"
    },
    {
      "cell_type": "code",
      "execution_count": null,
      "metadata": {
        "id": "VvaG2FUAqGi6",
        "outputId": "e7e72e01-497c-4cad-ce7f-c02573f1341b"
      },
      "outputs": [
        {
          "name": "stdout",
          "output_type": "stream",
          "text": [
            "'1 2 3' -> 6\n",
            "'  4   5 ' -> ERROR: ValueError invalid literal for int() with base 10: ''\n",
            "'' -> ERROR: ValueError invalid literal for int() with base 10: ''\n",
            "'10\\t20\\n30' -> ERROR: ValueError invalid literal for int() with base 10: '10\\t20\\n30'\n",
            "'-5 3' -> -2\n"
          ]
        }
      ],
      "source": [
        "# BUGGY: naive split breaks on multiple spaces, tabs/newlines, and empty tokens\n",
        "def sum_integers(line: str) -> int:\n",
        "    return sum(int(tok) for tok in line.split(\" \"))  # BUG: split(\" \") leaves empty tokens; doesn't split tabs/newlines\n",
        "\n",
        "# Try a few cases\n",
        "tests = [\n",
        "    \"1 2 3\",            # -> 6\n",
        "    \"  4   5 \",         # -> 9  (current code may raise ValueError due to empty tokens)\n",
        "    \"\",                 # -> 0  (current code raises ValueError: '' cannot be int)\n",
        "    \"10\\t20\\n30\",       # -> 60 (current code doesn't split on \\t or \\n)\n",
        "    \"-5 3\"              # -> -2\n",
        "]\n",
        "\n",
        "for t in tests:\n",
        "    try:\n",
        "        print(repr(t), \"->\", sum_integers(t))\n",
        "    except Exception as e:\n",
        "        print(repr(t), \"-> ERROR:\", type(e).__name__, str(e))"
      ],
      "id": "VvaG2FUAqGi6"
    },
    {
      "cell_type": "markdown",
      "metadata": {
        "id": "-GUF1HNgqGi6"
      },
      "source": [
        "## Explain & Improve Prompt\n",
        "```\n",
        "<<<YOUR PROMPT HERE>>>\n",
        "```"
      ],
      "id": "-GUF1HNgqGi6"
    },
    {
      "cell_type": "code",
      "execution_count": null,
      "metadata": {
        "id": "n8VfL7VZqGi7",
        "outputId": "9683cc68-7016-4e18-8e70-2e7fd3560f79"
      },
      "outputs": [
        {
          "ename": "SyntaxError",
          "evalue": "invalid syntax (3471620979.py, line 1)",
          "output_type": "error",
          "traceback": [
            "\u001b[1;36m  Cell \u001b[1;32mIn[7], line 1\u001b[1;36m\u001b[0m\n\u001b[1;33m    <<<INSERT FINAL SOLUTION HERE>>>\u001b[0m\n\u001b[1;37m    ^\u001b[0m\n\u001b[1;31mSyntaxError\u001b[0m\u001b[1;31m:\u001b[0m invalid syntax\n"
          ]
        }
      ],
      "source": [
        "<<<INSERT FINAL SOLUTION HERE>>>"
      ],
      "id": "n8VfL7VZqGi7"
    },
    {
      "cell_type": "markdown",
      "metadata": {
        "id": "VO-x50L1qGi7"
      },
      "source": [
        "# 6. Lab 3 — Compare & Evaluate AI Outputs\n",
        "\n",
        "Run both prompts below in ChatGPT/Gemini and paste the outputs into your notes. Then score them.\n",
        "\n",
        "**Prompt 1 — general**\n",
        "```\n",
        "Explain what list comprehensions are in Python with 1 example.\n",
        "```\n",
        "\n",
        "**Prompt 2 — structured**\n",
        "```\n",
        "You are a Python tutor.\n",
        "Explain list comprehensions to a beginner using:\n",
        "- 1 analogy,\n",
        "- 1 minimal example,\n",
        "- 2 common mistakes + fixes,\n",
        "Return in Markdown with sections and a tiny quiz (2 questions).\n",
        "```\n",
        "\n",
        "### Evaluation Rubric (fill in numbers 1–5)\n",
        "| Criterion      | P1 | P2 |\n",
        "|---|---|---|\n",
        "| Clarity        |   |   |\n",
        "| Correctness    |   |   |\n",
        "| Completeness   |   |   |\n",
        "| Actionability  |   |   |\n",
        "\n",
        "**Which prompt produced a better learning outcome? Why?**"
      ],
      "id": "VO-x50L1qGi7"
    },
    {
      "cell_type": "markdown",
      "metadata": {
        "id": "ytaqfTDXqGi7"
      },
      "source": [
        "# 7. Ethics, Safety, and Academic Integrity\n",
        "\n",
        "- **Be transparent** when you used AI assistance.\n",
        "- **You are responsible** for the correctness of your work.\n",
        "- Strive to **understand** every line you submit.\n",
        "- Follow your course’s **AI-use policy**.\n",
        "\n",
        "**Copy to ChatGPT/Gemini — Integrity Self-Audit**\n",
        "```\n",
        "Act as an academic integrity assistant.\n",
        "I will paste a solution. Identify any places that need citations or where AI assistance should be disclosed.\n",
        "Suggest a brief, proper disclosure statement.\n",
        "```"
      ],
      "id": "ytaqfTDXqGi7"
    },
    {
      "cell_type": "markdown",
      "metadata": {
        "id": "rdEzT3dHqGi7"
      },
      "source": [
        "# 8. Exit Ticket\n",
        "\n",
        "1. Which CT pillar did you use the most today and why?  \n",
        "2. Write **one** prompt pattern you’ll try next time.  \n",
        "3. Short answer: Why is `sentence.split()` more robust than `sentence.split(\" \")`?"
      ],
      "id": "rdEzT3dHqGi7"
    },
    {
      "cell_type": "markdown",
      "metadata": {
        "id": "7QjbS6UVqGi7"
      },
      "source": [
        "# 9. License & Attributions\n",
        "\n",
        "- Notebook © 2025-09-07 under **CC BY-NC-SA 4.0** (educational use).  \n",
        "- Slides: *bai_02.pdf* (provided by instructor).  "
      ],
      "id": "7QjbS6UVqGi7"
    }
  ],
  "metadata": {
    "kernelspec": {
      "display_name": "llms",
      "language": "python",
      "name": "python3"
    },
    "language_info": {
      "codemirror_mode": {
        "name": "ipython",
        "version": 3
      },
      "file_extension": ".py",
      "mimetype": "text/x-python",
      "name": "python",
      "nbconvert_exporter": "python",
      "pygments_lexer": "ipython3",
      "version": "3.11.11"
    },
    "colab": {
      "provenance": []
    }
  },
  "nbformat": 4,
  "nbformat_minor": 5
}